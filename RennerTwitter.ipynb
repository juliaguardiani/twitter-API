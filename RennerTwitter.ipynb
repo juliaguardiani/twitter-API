{
  "nbformat": 4,
  "nbformat_minor": 0,
  "metadata": {
    "kernelspec": {
      "display_name": "Python 3",
      "language": "python",
      "name": "python3"
    },
    "language_info": {
      "codemirror_mode": {
        "name": "ipython",
        "version": 3
      },
      "file_extension": ".py",
      "mimetype": "text/x-python",
      "name": "python",
      "nbconvert_exporter": "python",
      "pygments_lexer": "ipython3",
      "version": "3.6.5"
    },
    "colab": {
      "name": "RennerTwitter.ipynb",
      "provenance": []
    }
  },
  "cells": [
    {
      "cell_type": "markdown",
      "metadata": {
        "id": "4Quw1KPPKY4Q"
      },
      "source": [
        "\n",
        "# 2.0 Authenticating with Twitter's API\n"
      ]
    },
    {
      "cell_type": "code",
      "metadata": {
        "id": "nbJfX--XviL-"
      },
      "source": [
        "!pip install Twython"
      ],
      "execution_count": null,
      "outputs": []
    },
    {
      "cell_type": "code",
      "metadata": {
        "id": "CthaJaXTvS1_"
      },
      "source": [
        "from twython import Twython, TwythonError"
      ],
      "execution_count": 2,
      "outputs": []
    },
    {
      "cell_type": "markdown",
      "metadata": {
        "id": "S6QBuOCNvS1_"
      },
      "source": [
        "\n",
        "## 2.1 Enter app info and get auth URL\n"
      ]
    },
    {
      "cell_type": "code",
      "metadata": {
        "id": "lmkWjh8PU_yW"
      },
      "source": [
        "# open the keys file\n",
        "my_file = open(\"keys.txt\", \"r\")\n",
        "\n",
        "# read the raw data\n",
        "content = my_file.read()\n",
        "\n",
        "# split all lines by  newline character\n",
        "API_KEY, API_SECRET_KEY = content.split(\"\\n\")\n",
        "\n",
        "# close the file\n",
        "my_file.close()"
      ],
      "execution_count": 3,
      "outputs": []
    },
    {
      "cell_type": "code",
      "metadata": {
        "id": "2jJCE5A1vS2A"
      },
      "source": [
        "twitter = Twython(API_KEY, API_SECRET_KEY)\n",
        "\n",
        "authentication_tokens = twitter.get_authentication_tokens()\n",
        "print(authentication_tokens['auth_url'])"
      ],
      "execution_count": null,
      "outputs": []
    },
    {
      "cell_type": "code",
      "metadata": {
        "id": "OI9MjTs_vS2B"
      },
      "source": [
        "# Replace the verifier with the pin number obtained with your web browser in the previous step\n",
        "VERIFIER = '6138850'\n",
        "\n",
        "twitter = Twython(API_KEY, API_SECRET_KEY,\n",
        "                  authentication_tokens['oauth_token'],\n",
        "                  authentication_tokens['oauth_token_secret'])\n",
        "\n",
        "authorized_tokens = twitter.get_authorized_tokens(VERIFIER)"
      ],
      "execution_count": 5,
      "outputs": []
    },
    {
      "cell_type": "markdown",
      "metadata": {
        "id": "tiDiGGx5X0w-"
      },
      "source": [
        "\n",
        "## 2.3 Use authorized tokens\n"
      ]
    },
    {
      "cell_type": "code",
      "metadata": {
        "id": "m7n_kesWvS2C",
        "colab": {
          "base_uri": "https://localhost:8080/"
        },
        "outputId": "21d36245-18e7-4175-9f6b-521388c3303f"
      },
      "source": [
        "twitter = Twython(API_KEY, API_SECRET_KEY,\n",
        "                  authorized_tokens['oauth_token'],\n",
        "                  authorized_tokens['oauth_token_secret'])\n",
        "\n",
        "twitter.verify_credentials()"
      ],
      "execution_count": 6,
      "outputs": [
        {
          "output_type": "execute_result",
          "data": {
            "text/plain": [
              "{'contributors_enabled': False,\n",
              " 'created_at': 'Thu Aug 26 00:17:27 +0000 2010',\n",
              " 'default_profile': False,\n",
              " 'default_profile_image': False,\n",
              " 'description': 'volto em breve',\n",
              " 'entities': {'description': {'urls': []}},\n",
              " 'favourites_count': 5070,\n",
              " 'follow_request_sent': False,\n",
              " 'followers_count': 171,\n",
              " 'following': False,\n",
              " 'friends_count': 89,\n",
              " 'geo_enabled': False,\n",
              " 'has_extended_profile': False,\n",
              " 'id': 183031171,\n",
              " 'id_str': '183031171',\n",
              " 'is_translation_enabled': False,\n",
              " 'is_translator': False,\n",
              " 'lang': None,\n",
              " 'listed_count': 1,\n",
              " 'location': '',\n",
              " 'name': 'julia',\n",
              " 'needs_phone_verification': False,\n",
              " 'notifications': False,\n",
              " 'profile_background_color': '34BFBF',\n",
              " 'profile_background_image_url': 'http://abs.twimg.com/images/themes/theme16/bg.gif',\n",
              " 'profile_background_image_url_https': 'https://abs.twimg.com/images/themes/theme16/bg.gif',\n",
              " 'profile_background_tile': False,\n",
              " 'profile_banner_url': 'https://pbs.twimg.com/profile_banners/183031171/1602630101',\n",
              " 'profile_image_url': 'http://pbs.twimg.com/profile_images/1291853759602098176/1WPVpZW7_normal.jpg',\n",
              " 'profile_image_url_https': 'https://pbs.twimg.com/profile_images/1291853759602098176/1WPVpZW7_normal.jpg',\n",
              " 'profile_link_color': '6577E0',\n",
              " 'profile_sidebar_border_color': 'F7F2F2',\n",
              " 'profile_sidebar_fill_color': '000000',\n",
              " 'profile_text_color': '11386B',\n",
              " 'profile_use_background_image': True,\n",
              " 'protected': False,\n",
              " 'screen_name': 'juguardiani',\n",
              " 'status': {'contributors': None,\n",
              "  'coordinates': None,\n",
              "  'created_at': 'Fri Sep 10 19:42:49 +0000 2021',\n",
              "  'entities': {'hashtags': [], 'symbols': [], 'urls': [], 'user_mentions': []},\n",
              "  'favorite_count': 1,\n",
              "  'favorited': False,\n",
              "  'geo': None,\n",
              "  'id': 1436414881713037318,\n",
              "  'id_str': '1436414881713037318',\n",
              "  'in_reply_to_screen_name': None,\n",
              "  'in_reply_to_status_id': None,\n",
              "  'in_reply_to_status_id_str': None,\n",
              "  'in_reply_to_user_id': None,\n",
              "  'in_reply_to_user_id_str': None,\n",
              "  'is_quote_status': False,\n",
              "  'lang': 'pt',\n",
              "  'place': None,\n",
              "  'retweet_count': 0,\n",
              "  'retweeted': False,\n",
              "  'source': '<a href=\"http://twitter.com/download/iphone\" rel=\"nofollow\">Twitter for iPhone</a>',\n",
              "  'text': 'Só lembrando q Violet Evergarden tbm tem filme sextou',\n",
              "  'truncated': False},\n",
              " 'statuses_count': 741,\n",
              " 'suspended': False,\n",
              " 'time_zone': None,\n",
              " 'translator_type': 'none',\n",
              " 'url': None,\n",
              " 'utc_offset': None,\n",
              " 'verified': False,\n",
              " 'withheld_in_countries': []}"
            ]
          },
          "metadata": {},
          "execution_count": 6
        }
      ]
    },
    {
      "cell_type": "markdown",
      "metadata": {
        "id": "ZN7tcAY5vS2E"
      },
      "source": [
        "# 4.0 Using Twitter's search API to get tweets of interest\n"
      ]
    },
    {
      "cell_type": "markdown",
      "metadata": {
        "id": "DO33luYRpcIb"
      },
      "source": [
        "\n",
        "## 4.1 Get tweets matching a hashtag\n",
        "\n",
        "We'll make use of the ability to search by hashtags:"
      ]
    },
    {
      "cell_type": "markdown",
      "metadata": {
        "id": "sf4b1Jh_vS2F"
      },
      "source": [
        "## 4.2 Using a cursor to get more than 100 tweets from a search\n",
        "\n",
        "We can only fetch up to 100 tweets at a time from a single search API call:"
      ]
    },
    {
      "cell_type": "code",
      "metadata": {
        "id": "-DB3_NHuvS2F",
        "colab": {
          "base_uri": "https://localhost:8080/"
        },
        "outputId": "268d85bc-1e87-48f0-a97a-1823fa81c97f"
      },
      "source": [
        "# even with count=1000, we still get at most 100 tweets\n",
        "search_response = twitter.search(q='#renner', count=1000)\n",
        "len(search_response['statuses'])"
      ],
      "execution_count": 44,
      "outputs": [
        {
          "output_type": "execute_result",
          "data": {
            "text/plain": [
              "100"
            ]
          },
          "metadata": {},
          "execution_count": 44
        }
      ]
    },
    {
      "cell_type": "markdown",
      "metadata": {
        "id": "bjZU7UXrvS2F"
      },
      "source": [
        "In order to get more tweets from a search, we can make use of a cursor:"
      ]
    },
    {
      "cell_type": "code",
      "metadata": {
        "id": "jdCTjWlwvS2F",
        "colab": {
          "base_uri": "https://localhost:8080/"
        },
        "outputId": "a3a2ba91-9846-4e6d-ac1a-66753979bca9"
      },
      "source": [
        "import itertools\n",
        "\n",
        "NUM_TWEETS_TO_FETCH = 1000\n",
        "\n",
        "cursor = twitter.cursor(twitter.search, q='#renner', count=100, result_type='mixed')\n",
        "search_tweets = list(itertools.islice(cursor, NUM_TWEETS_TO_FETCH))\n",
        "len(search_tweets)"
      ],
      "execution_count": 45,
      "outputs": [
        {
          "output_type": "execute_result",
          "data": {
            "text/plain": [
              "126"
            ]
          },
          "metadata": {},
          "execution_count": 45
        }
      ]
    },
    {
      "cell_type": "code",
      "metadata": {
        "id": "8lY44Co0W5yA"
      },
      "source": [
        "import pandas as pd\n",
        "\n",
        "# Search tweets\n",
        "dict_ = {'user': [], 'date': [], 'text': [], 'favorite_count': []}\n",
        "for tweet in search_tweets:\n",
        "    dict_['user'].append(tweet['user']['screen_name'])\n",
        "    dict_['date'].append(tweet['created_at'])\n",
        "    dict_['text'].append(tweet['text'])\n",
        "    dict_['favorite_count'].append(tweet['favorite_count'])\n",
        "# Structure data in a pandas DataFrame for easier manipulation\n",
        "df = pd.DataFrame(dict_)"
      ],
      "execution_count": 46,
      "outputs": []
    },
    {
      "cell_type": "code",
      "metadata": {
        "id": "dRQRh53pXbfr",
        "colab": {
          "base_uri": "https://localhost:8080/",
          "height": 204
        },
        "outputId": "cb75eff9-e0b8-4b78-babb-9581fb5346ad"
      },
      "source": [
        "df.head()"
      ],
      "execution_count": 47,
      "outputs": [
        {
          "output_type": "execute_result",
          "data": {
            "text/html": [
              "<div>\n",
              "<style scoped>\n",
              "    .dataframe tbody tr th:only-of-type {\n",
              "        vertical-align: middle;\n",
              "    }\n",
              "\n",
              "    .dataframe tbody tr th {\n",
              "        vertical-align: top;\n",
              "    }\n",
              "\n",
              "    .dataframe thead th {\n",
              "        text-align: right;\n",
              "    }\n",
              "</style>\n",
              "<table border=\"1\" class=\"dataframe\">\n",
              "  <thead>\n",
              "    <tr style=\"text-align: right;\">\n",
              "      <th></th>\n",
              "      <th>user</th>\n",
              "      <th>date</th>\n",
              "      <th>text</th>\n",
              "      <th>favorite_count</th>\n",
              "    </tr>\n",
              "  </thead>\n",
              "  <tbody>\n",
              "    <tr>\n",
              "      <th>0</th>\n",
              "      <td>vemeconomizar</td>\n",
              "      <td>Tue Sep 14 18:06:55 +0000 2021</td>\n",
              "      <td>CUPOM DE DESCONTO RIACHUELO\\n\\nGanhe 10% off e...</td>\n",
              "      <td>0</td>\n",
              "    </tr>\n",
              "    <tr>\n",
              "      <th>1</th>\n",
              "      <td>vemeconomizar</td>\n",
              "      <td>Tue Sep 14 18:06:40 +0000 2021</td>\n",
              "      <td>CUPOM DE DESCONTO HERING!\\n\\nGanhe 10% off ext...</td>\n",
              "      <td>0</td>\n",
              "    </tr>\n",
              "    <tr>\n",
              "      <th>2</th>\n",
              "      <td>DominicanJonn</td>\n",
              "      <td>Tue Sep 14 16:57:14 +0000 2021</td>\n",
              "      <td>RT @DominicanJonn: #BundleofBrittany is alread...</td>\n",
              "      <td>0</td>\n",
              "    </tr>\n",
              "    <tr>\n",
              "      <th>3</th>\n",
              "      <td>vemeconomizar</td>\n",
              "      <td>Tue Sep 14 13:17:58 +0000 2021</td>\n",
              "      <td>CUPOM DE DESCONTO HERING!\\n\\nGanhe 10% off ext...</td>\n",
              "      <td>0</td>\n",
              "    </tr>\n",
              "    <tr>\n",
              "      <th>4</th>\n",
              "      <td>vemeconomizar</td>\n",
              "      <td>Tue Sep 14 11:14:51 +0000 2021</td>\n",
              "      <td>CUPOM DE DESCONTO RIACHUELO\\n\\nGanhe 10% off e...</td>\n",
              "      <td>0</td>\n",
              "    </tr>\n",
              "  </tbody>\n",
              "</table>\n",
              "</div>"
            ],
            "text/plain": [
              "            user  ... favorite_count\n",
              "0  vemeconomizar  ...              0\n",
              "1  vemeconomizar  ...              0\n",
              "2  DominicanJonn  ...              0\n",
              "3  vemeconomizar  ...              0\n",
              "4  vemeconomizar  ...              0\n",
              "\n",
              "[5 rows x 4 columns]"
            ]
          },
          "metadata": {},
          "execution_count": 47
        }
      ]
    },
    {
      "cell_type": "code",
      "metadata": {
        "id": "CXeAhZcRnRNU",
        "colab": {
          "base_uri": "https://localhost:8080/"
        },
        "outputId": "4ac79f29-2f61-4571-8c97-b1cd197b8fba"
      },
      "source": [
        "df.shape"
      ],
      "execution_count": 48,
      "outputs": [
        {
          "output_type": "execute_result",
          "data": {
            "text/plain": [
              "(126, 4)"
            ]
          },
          "metadata": {},
          "execution_count": 48
        }
      ]
    },
    {
      "cell_type": "code",
      "metadata": {
        "id": "xBFF-OlBvS2F",
        "colab": {
          "base_uri": "https://localhost:8080/"
        },
        "outputId": "8f5c7a9f-f89e-42e0-8f7f-cd88f2be185a"
      },
      "source": [
        "twitter.get_application_rate_limit_status()['resources']['search']"
      ],
      "execution_count": 49,
      "outputs": [
        {
          "output_type": "execute_result",
          "data": {
            "text/plain": [
              "{'/search/tweets': {'limit': 180, 'remaining': 176, 'reset': 1631649731}}"
            ]
          },
          "metadata": {},
          "execution_count": 49
        }
      ]
    },
    {
      "cell_type": "markdown",
      "metadata": {
        "id": "-Gwmtja_vS2G"
      },
      "source": [
        "# 6.0 Twitter retweet network\n"
      ]
    },
    {
      "cell_type": "markdown",
      "metadata": {
        "id": "Rdvg2XvnHyGB"
      },
      "source": [
        "\n",
        "## 6.1 Get some tweets"
      ]
    },
    {
      "cell_type": "code",
      "metadata": {
        "id": "_G39k9SkvS2G",
        "colab": {
          "base_uri": "https://localhost:8080/"
        },
        "outputId": "da1caed5-ed9d-42ca-a2cc-73a6ab8e4e67"
      },
      "source": [
        "import itertools\n",
        "\n",
        "\n",
        "NUM_TWEETS_TO_FETCH =5000\n",
        "\n",
        "cursor01 = twitter.cursor(twitter.search, q='lojas renner', count=100, result_type='mixed')\n",
        "cursor02 = twitter.cursor(twitter.search, q='na renner', count=100, result_type='mixed')\n",
        "cursor03 = twitter.cursor(twitter.search, q='da renner', count=100, result_type='mixed')\n",
        "somatorio = [*cursor01, *cursor02, *cursor03]\n",
        "search_tweets = list(itertools.islice(somatorio, NUM_TWEETS_TO_FETCH))\n",
        "\n",
        "len(search_tweets)"
      ],
      "execution_count": 57,
      "outputs": [
        {
          "output_type": "execute_result",
          "data": {
            "text/plain": [
              "6355"
            ]
          },
          "metadata": {},
          "execution_count": 57
        }
      ]
    },
    {
      "cell_type": "markdown",
      "metadata": {
        "id": "JurFff8JvS2G"
      },
      "source": [
        "## 6.2 Filter retweets\n"
      ]
    },
    {
      "cell_type": "code",
      "metadata": {
        "id": "vp_V0AJ2vS2G",
        "colab": {
          "base_uri": "https://localhost:8080/"
        },
        "outputId": "ec143ecd-a99e-46f2-ceff-0c44f9885ef6"
      },
      "source": [
        "retweets = []\n",
        "for tweet in search_tweets:\n",
        "    if 'retweeted_status' in tweet:\n",
        "        retweets.append(tweet)\n",
        "len(retweets)"
      ],
      "execution_count": 58,
      "outputs": [
        {
          "output_type": "execute_result",
          "data": {
            "text/plain": [
              "1329"
            ]
          },
          "metadata": {},
          "execution_count": 58
        }
      ]
    },
    {
      "cell_type": "code",
      "metadata": {
        "id": "dFP62esQs1I4"
      },
      "source": [
        "import pandas as pd\n",
        "\n",
        "# Search tweets\n",
        "dict_ = {'user': [], 'date': [], 'text': [], 'favorite_count': []}\n",
        "for tweet in search_tweets:\n",
        "    dict_['user'].append(tweet['user']['screen_name'])\n",
        "    dict_['date'].append(tweet['created_at'])\n",
        "    dict_['text'].append(tweet['text'])\n",
        "    dict_['favorite_count'].append(tweet['favorite_count'])\n",
        "# Structure data in a pandas DataFrame for easier manipulation\n",
        "df = pd.DataFrame(dict_)"
      ],
      "execution_count": 59,
      "outputs": []
    },
    {
      "cell_type": "code",
      "metadata": {
        "colab": {
          "base_uri": "https://localhost:8080/",
          "height": 204
        },
        "id": "2iKOdPJXs5su",
        "outputId": "fafb12e6-78c6-4705-8648-65d606aa770a"
      },
      "source": [
        "df.head()"
      ],
      "execution_count": 60,
      "outputs": [
        {
          "output_type": "execute_result",
          "data": {
            "text/html": [
              "<div>\n",
              "<style scoped>\n",
              "    .dataframe tbody tr th:only-of-type {\n",
              "        vertical-align: middle;\n",
              "    }\n",
              "\n",
              "    .dataframe tbody tr th {\n",
              "        vertical-align: top;\n",
              "    }\n",
              "\n",
              "    .dataframe thead th {\n",
              "        text-align: right;\n",
              "    }\n",
              "</style>\n",
              "<table border=\"1\" class=\"dataframe\">\n",
              "  <thead>\n",
              "    <tr style=\"text-align: right;\">\n",
              "      <th></th>\n",
              "      <th>user</th>\n",
              "      <th>date</th>\n",
              "      <th>text</th>\n",
              "      <th>favorite_count</th>\n",
              "    </tr>\n",
              "  </thead>\n",
              "  <tbody>\n",
              "    <tr>\n",
              "      <th>0</th>\n",
              "      <td>Lojas_Renner</td>\n",
              "      <td>Tue Sep 14 01:31:02 +0000 2021</td>\n",
              "      <td>será que fez no cartão renner? \\nespero que si...</td>\n",
              "      <td>399</td>\n",
              "    </tr>\n",
              "    <tr>\n",
              "      <th>1</th>\n",
              "      <td>Wallo0ry</td>\n",
              "      <td>Tue Sep 14 22:04:17 +0000 2021</td>\n",
              "      <td>RT @swtyoons: Ariana arrasando no red carpet c...</td>\n",
              "      <td>0</td>\n",
              "    </tr>\n",
              "    <tr>\n",
              "      <th>2</th>\n",
              "      <td>_dinhow</td>\n",
              "      <td>Tue Sep 14 21:47:35 +0000 2021</td>\n",
              "      <td>@americanascom @marigraciolli Nesse caso seria...</td>\n",
              "      <td>0</td>\n",
              "    </tr>\n",
              "    <tr>\n",
              "      <th>3</th>\n",
              "      <td>enricokkkw</td>\n",
              "      <td>Tue Sep 14 21:44:54 +0000 2021</td>\n",
              "      <td>@_ricardoscs_ @Lojas_Renner @Lojas_Renner oi r...</td>\n",
              "      <td>1</td>\n",
              "    </tr>\n",
              "    <tr>\n",
              "      <th>4</th>\n",
              "      <td>camsscb</td>\n",
              "      <td>Tue Sep 14 21:44:37 +0000 2021</td>\n",
              "      <td>RT @swtyoons: Ariana arrasando no red carpet c...</td>\n",
              "      <td>0</td>\n",
              "    </tr>\n",
              "  </tbody>\n",
              "</table>\n",
              "</div>"
            ],
            "text/plain": [
              "           user  ... favorite_count\n",
              "0  Lojas_Renner  ...            399\n",
              "1      Wallo0ry  ...              0\n",
              "2       _dinhow  ...              0\n",
              "3    enricokkkw  ...              1\n",
              "4       camsscb  ...              0\n",
              "\n",
              "[5 rows x 4 columns]"
            ]
          },
          "metadata": {},
          "execution_count": 60
        }
      ]
    },
    {
      "cell_type": "code",
      "metadata": {
        "colab": {
          "base_uri": "https://localhost:8080/"
        },
        "id": "iheBRfixs-8g",
        "outputId": "4365d53c-4974-4fb9-e7b7-49eac27608fc"
      },
      "source": [
        "df.shape"
      ],
      "execution_count": 61,
      "outputs": [
        {
          "output_type": "execute_result",
          "data": {
            "text/plain": [
              "(6355, 4)"
            ]
          },
          "metadata": {},
          "execution_count": 61
        }
      ]
    },
    {
      "cell_type": "code",
      "metadata": {
        "id": "WJAo-7GKt5gV"
      },
      "source": [
        "df.to_csv(\"renner.csv\")"
      ],
      "execution_count": 62,
      "outputs": []
    },
    {
      "cell_type": "markdown",
      "metadata": {
        "id": "PXB4ZTXpvS2G"
      },
      "source": [
        "## 6.3 Create DiGraph\n"
      ]
    },
    {
      "cell_type": "code",
      "metadata": {
        "id": "GMNv8RPmvS2G"
      },
      "source": [
        "import networkx as nx\n",
        "\n",
        "D = nx.DiGraph()\n",
        "\n",
        "for retweet in retweets:\n",
        "    retweeted_status = retweet['retweeted_status']\n",
        "    retweeted_sn = retweeted_status['user']['screen_name']\n",
        "    retweeter_sn = retweet['user']['screen_name']\n",
        "    \n",
        "    # Edge direction: retweeted_sn -> retweeter_sn\n",
        "    if D.has_edge(retweeted_sn, retweeter_sn):\n",
        "        D.edges[retweeted_sn, retweeter_sn]['weight'] += 1\n",
        "    else:\n",
        "        D.add_edge(retweeted_sn, retweeter_sn, weight=1)"
      ],
      "execution_count": 63,
      "outputs": []
    },
    {
      "cell_type": "markdown",
      "metadata": {
        "id": "LwU9t4eWvS2G"
      },
      "source": [
        "## 6.4 Analyze graph\n"
      ]
    },
    {
      "cell_type": "markdown",
      "metadata": {
        "id": "m0zcjTTtqKfV"
      },
      "source": [
        "\n",
        "### 6.4.1 Most retweeted user\n"
      ]
    },
    {
      "cell_type": "code",
      "metadata": {
        "id": "ZinSHs6qvS2G",
        "colab": {
          "base_uri": "https://localhost:8080/",
          "height": 35
        },
        "outputId": "8ee9fd1c-5c99-42ce-ea8e-baeafa2612c9"
      },
      "source": [
        "max(D.nodes, key=D.out_degree)"
      ],
      "execution_count": 64,
      "outputs": [
        {
          "output_type": "execute_result",
          "data": {
            "application/vnd.google.colaboratory.intrinsic+json": {
              "type": "string"
            },
            "text/plain": [
              "'pavliique'"
            ]
          },
          "metadata": {},
          "execution_count": 64
        }
      ]
    },
    {
      "cell_type": "code",
      "metadata": {
        "id": "6sSh64DbvS2G",
        "colab": {
          "base_uri": "https://localhost:8080/"
        },
        "outputId": "07d0c62a-b4f9-4ecc-aa4c-3ff3e8f7c425"
      },
      "source": [
        "from operator import itemgetter\n",
        "\n",
        "sorted(D.out_degree(), key=itemgetter(1), reverse=True)[:5]"
      ],
      "execution_count": 65,
      "outputs": [
        {
          "output_type": "execute_result",
          "data": {
            "text/plain": [
              "[('pavliique', 114),\n",
              " ('wxvivi', 77),\n",
              " ('legendarylovers', 72),\n",
              " ('RandonadmM', 70),\n",
              " ('aresnoert', 54)]"
            ]
          },
          "metadata": {},
          "execution_count": 65
        }
      ]
    },
    {
      "cell_type": "code",
      "metadata": {
        "id": "DS93volW-lDa",
        "colab": {
          "base_uri": "https://localhost:8080/"
        },
        "outputId": "ad28ca40-18dd-4b6f-eac3-d2510d83d703"
      },
      "source": [
        "D.out_degree()"
      ],
      "execution_count": 66,
      "outputs": [
        {
          "output_type": "execute_result",
          "data": {
            "text/plain": [
              "OutDegreeView({'swtyoons': 25, 'Wallo0ry': 0, 'camsscb': 0, '_ziur1': 0, 'Felipe_xcmrg': 0, 'brunojesusjr': 0, '_jdls02': 0, 'laripaiivva': 0, 'Oliverxulia': 0, 'TaurinoDeboista': 1, 'RecifeBot': 0, 'sanluhh': 0, 'gugahummel': 0, 'R4fuds': 0, 'euhenriique': 0, 'gus7a_v0': 0, 'laviniabast': 0, 'renatopeixotoo': 0, 'jisungcolors_': 1, 'Pinkgir56282753': 0, 'Myfu_Dendo': 0, 'JovemDavizinho': 0, 'beatrizz_ellen': 0, '_annagpj': 0, 'MatheusRonndao': 1, 'PauloAndersonn': 0, 'Isa_amorim19': 0, 'Tatiapplehead': 1, 'JampaRobo': 0, 'eujuliovictor': 3, 'strealitas': 0, 'sophi_barraa': 0, 'xelo_dotzjv': 0, 'cavassan1': 0, 'ninilsd': 0, 'jisooturtle0': 0, 'nicososz': 1, 'eternalsdune': 0, 'dicapriopugh': 2, 'mi__motta': 0, 'vhstucky': 0, 'marcelleoliver': 1, 'wheeinice': 0, 'BrandFinance': 3, 'NanVazy': 0, 'dfndr_br': 1, 'emilio_simoni': 0, '_JosePerales': 0, 'marlosandrey': 1, 'Piixulinha': 1, 'imxrcur': 0, 'jeansantospbr': 2, 'omuriIo': 0, 'aquelaborgui': 2, 'millesilva007': 0, 'JuhlianaNelli': 0, 'Lord_do_Miojo': 2, 'Faustopera': 0, 'matheusluckas01': 0, 'thettinvestor': 1, 'Anderson77i': 0, 'i4benchtrio': 0, 'ifuseekmozy': 3, 'theempresstyrah': 0, 'aestheticzidian': 0, 'Ana_Artioli_': 0, 'tilltheworldend': 0, 'Marcelin9spears': 0, 'winegukie': 1, 'EPTC_POA': 2, 'EduPaganella': 4, 'fvsbarnes': 3, 'kjngirl_': 0, 'takemeout': 2, 'F0RA_Bolsonaro': 0, 'Juhhszzz': 1, 'bitchnamedluiza': 0, 'wxvivi': 77, 'liarONtoast': 0, 'starswithbee': 1, 'neres_isaac': 0, 'Deyass_0': 4, 'Rafaellacsm_': 0, 'naisantina': 0, 'lovesxbia': 2, 'manustanlist': 0, 'lisemonn': 0, 'Hazzlindao': 0, 'Crystal_yoong': 0, 'centerparente': 1, 'luizatrues': 0, 'mariaauauauauau': 0, 'fabionelas': 8, 'bob______lee': 0, 'paulohcdutra': 11, 'Morenaa3103': 0, 'Fannyzinha_02': 0, 'pavliique': 114, 'andynasc2': 0, 'OBrunomorfo': 0, 'CopadoBrasil': 1, 'Renner_SSouza': 0, 'flferronato': 1, 'deusacontent': 0, 'emygrx': 0, 'RandonadmM': 70, '_PKGWK': 0, 'taegiIip': 1, 'NiggRaffaela': 0, 'claravity': 0, 'Icontae1': 0, 'Manuszinha1': 0, 'marcsousa': 1, 'milabarreto': 1, 'bot_cockroach': 0, 'regretlinus': 0, 'itsnotdondoni': 0, '_ericakkk': 1, '_erika_renner': 0, 'Birilin1': 0, 'economaster101': 0, 'strangexnat': 0, 'jmaduj': 0, 'eduarda__y': 0, 'joaoportugal__': 0, 'daisiesforlife': 0, 'imnotvenuz': 4, 'letlmaa': 0, 'veridiano24': 0, 'daviibruno': 1, 'yaraasx': 0, 'mcairod': 0, 'falarafha': 6, 'lucas_salvaro': 0, 'legendarylovers': 72, 'LittleFoxGray': 0, 'zwyna_': 0, 'analuizabbs00': 0, 'tedioetals': 0, 'taekookkxg': 0, 'PerryMyBaby': 0, 'kassypoli': 0, 'drunkkrascal': 1, 'EuDede': 0, 'hsmaybank': 0, 'iambfr': 0, 'MariaClaraLago3': 0, '______viejjra': 0, 'Https1toxic': 0, 'alcantaraasilva': 0, 'duarterlarissa': 0, 'bernardomarcxl': 0, 'augustiante01': 0, 'eaechrisz': 0, 'aaaaarf0': 0, 'eviih_bertoldo': 0, 'thaethae110': 0, 'itsnottka': 0, 'maiakkkkjk': 0, 'tamycarrato': 0, 'EmyB4rbie': 0, 'tierryaa': 0, 'Vgabriellasr': 0, 'emillyemaelle_': 0, 'chanelbyjennie': 0, 'Thiago70387251': 0, 'ilydiferenciads': 0, 'jaoojab': 0, 'gabrielabh2006': 0, 'Isaaa_pontes': 0, 'CarolineGuima': 1, 'alefesiqueira': 0, 'AnaCaro48249671': 0, 'alcastrrr': 0, 'luvsinjunnie': 0, 'yaecs': 0, 'quintanilhaxx': 0, 'isadorafedida': 0, 'kimquinjin': 0, 'hellofeh_': 0, 'beshborges': 0, 'SO6ZA': 0, 'sloancomics': 0, 'ohrisoflora': 0, 'hobibrighter': 0, 'Catfull6': 0, 'xlivxxx': 0, 'princessdumbb': 0, 'Flavio_Gottardo': 0, 'lorranemrv': 0, 'karenthiana': 0, 'iamlovedturky': 0, 'laisnoro': 0, 'plantsfeneco': 0, 'Swith20200': 0, 'xxxcmr6': 0, 'Laura_pfs': 0, 'ryoasukira': 0, 'claraa_dantas': 0, 'Carol731_': 0, 'centuryg1rl': 0, 'ivyvenenosa_': 0, 'thenicolyyy': 0, 'jassm_ine': 0, 'k4uelima': 1, 'dudabernardaoo': 0, 'BiancaPereiiraa': 0, 'Jojoxiin': 0, 'najamilIe': 2, 'Haulandim': 0, 'henriquedragfan': 0, 'mikagomss': 0, 'everytory': 0, 'Geovani41322629': 0, 'lealalua': 0, 'leomendes51': 0, 'dlibyhlouie91': 0, 'delimell1': 0, 'acstilinski': 0, 'batrz_': 0, 'imattheusss': 0, 'giurodrigus': 0, 'Nicolle96926867': 0, 'manu_assereuy': 0, 'zhonglilazy': 0, 'realannex': 0, 'NickLangkammer': 0, 'biriejean': 0, '_Isapucci_': 0, 'malicealvesv': 0, 'noitsbeck1y3': 0, 'Caroulinahh': 0, 'ArthurMont05': 0, 'lemepaestiig': 0, 'Ciswrt': 0, 'ro_hft': 0, 'juliascarv_': 0, 'Dakara_Hai': 0, 'monik_ellen_': 0, 'furacao_2003': 0, 'MaryL98983017': 0, 'Laviniastyles_': 0, 'KarolPavanelo': 0, 'gu1zzardi': 0, 'Bartier_Barbie': 0, 'a_luisio': 0, 'Beatriz79195397': 0, 'otensnebur5': 0, 'est_jack': 0, 'vixibiel': 0, 'guilhermegmes03': 1, 'apolodelucca': 0, 'talythalopess': 0, 'domingos_motta': 0, 'poops____': 0, 'amandavictoriaj': 0, 'fxrs0': 0, 'ellendojimin': 0, '__nanami_s2': 0, 'layssasilvs': 0, 'Lexxis_27': 0, 'criscabanapp': 0, '_ttdalara': 0, 'achoqunathalia': 0, 'jihyobaiana': 0, 'JIMINR0YALS': 0, 'machuca_xereca': 0, 'candykska': 0, 'sixjuliet': 1, 'JuliPrantes': 0, 'gabricorrea_': 0, 'meldeverdade': 0, 'GabrielleKathl7': 0, 'Iorgutedecereja': 0, 'Larissa96999118': 0, 'DuarteeCrf': 0, 'princesalexya': 0, 'clarac_freitas': 0, 'ifzbryant': 0, 'RobsonA38623586': 0, 'crfmariaaa': 0, 'ElencLima': 0, 'maylarmcf': 0, 'moonli1v': 0, 'naomi_nishii': 0, 'hey_isamello': 0, 'emiliamariaq': 0, 'Kauaqua': 0, 'marcotulioog': 0, 'KatiVianna': 2, 'Deboraccrist': 0, 'VANTESHIRO': 0, 'KiriSharkRIOT': 0, 'raquelvitoriad2': 0, 'relicarinho': 0, 'sunoolob_': 0, 'tnbhdxtopx': 0, 'dqueirozbeauty': 0, 'Igor77silva2001': 0, 'biallaud': 0, 'fcksbieebs': 0, 'viccz2': 0, 'sourvenirw': 0, 'ot7trash': 0, 'lovemrya': 0, 'hobizk': 0, 'loredominguess': 0, 'pedroxsfn': 0, 'Anylima013': 0, 'emanuellyXL': 0, 'iamdougss': 0, 'bibeatrixx': 0, 'emMANUtencaooo': 0, 'thxfilez': 0, 'badchanel_013': 0, 'anxcss': 0, 'mackenziefalls0': 0, 'j0rdana__': 0, 'AndreaParkeer': 0, 'skypadfoot': 0, 'jadxr': 0, 'eosfarfalla': 0, 're_armenini': 0, 'maite08004532': 0, 'iinesteixeira': 0, 'baekttiny': 0, 'mariana3campos': 0, 'falabeloca': 0, 'cakee_nayy': 0, 'misstarkstrange': 0, 'nacaomarveI': 2, 'anacarolina_na': 0, 'CadelaRosmello': 0, 'AnaClaraL0525': 0, 'mandzvi': 0, 'julianacca1': 0, '_juliaalbino': 0, 'anah__zampier': 0, 'berrieschamp': 0, 'jnkold': 1, 'jnniecode': 0, 'mxriaclarx': 0, 'yas_costx021': 0, 'palomablc': 0, 'jim_mys': 1, 'rafaelanvm': 0, 'Duda_Horan28': 0, 'BFRadrielly': 0, 'cirilo_a_': 0, 'ericvrep': 0, 'jksartz': 0, 'palha_rayssa': 0, 'MichaJards': 0, 'WalIslt': 0, 'GlendaNunes20': 0, 'MilheneCristine': 0, 'jardim_da_v': 0, 'delarabru': 0, 'andressafrndz': 0, 'poneimalditoo': 0, 'joaoyictor': 0, 'susanafbrm': 1, 'sorrisomars': 0, 'wtf_b3lly': 0, 'gilscr': 0, 'manuh_oppa': 0, 'lisiaaaaaaaa': 0, 'assisfada': 0, 'aysltuhcad': 0, 'martindrewgrrx': 0, 'valilydias': 0, 'Afk_snk': 0, 'anwisegirl_': 0, 'lirarights': 0, 'xxxhww': 0, 'anyastxsia': 0, 'paolabuch': 0, 'ju_duraess': 0, 'jhskpot': 0, 'Ana_Goncalvs_': 1, 'lorrainedsr': 0, 'leoninaxsxs': 0, 'm00nyf0rm3': 0, 'rxmoren': 0, 'ahellenita': 0, 'i2lawrence': 1, 'atypcat': 0, 'vitorgrodrigues': 0, 'escorpilantra': 0, 'Clarafgarcia': 1, 'giovannavisu': 0, 'LourenMilly': 0, 'laanisx': 1, 'SaraBenencase': 0, 'KAIF4CK': 2, 'Pessoaaa27': 0, 'hydrangealvr_': 0, 'yxscrf': 0, 'sbeaLopes': 0, 'tarcisiogdf': 1, 'rickontts': 0, 'oLeo_Barbosa': 1, 'pythonegra': 0, 'grouwundzero': 0, 'taeintheclouds': 1, 'versacegIlr': 0, 'spitefuIman': 0, 'edson_delos': 0, 'julianny_n': 0, 'brubscansada': 0, 'tchunbs': 0, 'zazori_indi': 0, 'Ietristia': 0, 'illicitkaren': 0, 'Samspm1': 0, 'skinrodrigo_': 1, '10Nandinha10': 0, 'TerraBrasilnot': 1, 'joaoveaugusto': 4, 'vin_niii': 0, 'jairbolsonaro': 1, 'pedrolcoimbra': 0, 'alwouh': 1, 'Analu076': 0, 'ImCatherine_C': 0, 'bavosavinicius': 0, 'aresnoert': 54, 'ogaroupa': 0, 'vanessacmdinizz': 0, 'CanalPeeWee': 3, 'JooPedroPiresD5': 0, 'oharrypotter': 0, 'Sr_drummerboy': 0, 'EchoBRA_': 1, 'eternalsfive': 0, 'streamingthings': 2, 'luiz__mathias': 0, 'znzbzztrzz': 0, 'Aria_Yamazaki': 1, 'AslaThelion': 0, 'hiddIesstan': 8, 'crpntrsingular': 0, 'ACCIOGALLAGH3R': 0, 'tstarkvariant': 0, 'johanssvers': 0, 'bwyelenastan': 0, 'johanxssonn': 0, 'romanoffdanver': 0, 'ravenxclawmcu': 0, 'pl_SWP': 9, 'P_loves_Vee': 0, 'seehux': 0, 'jaszczembica_': 0, 'sargekitten': 0, 'xgaabaaxx': 0, 'Paula110828': 0, 'nieterazmamo': 0, '_x_mendes_': 0, 'queenofspirits_': 0, 'nikolas_dm': 1, 'chippuoficial': 40, 'saco_na_lua': 0, 'melekapop': 1, 'karenmeira_': 0, 'aninha_claraaa': 1, 'baah_q': 0, 'luide': 1, 'o_renner': 0, 'infelizmenteju': 2, 'Mvandowski': 0, 'FerGaleskii': 1, 'joannemonster': 0, 'liaferrie': 1, 'italosphere': 0, 'sadxgirlxxx': 0, 'littlemarceloo': 1, 'myouiitale': 0, 'iranglubglub1': 1, 'Flavinhu16': 0, 'ClarisseMChef': 4, 'karineeassis': 0, 'yasminsalum_': 0, 'debzoz': 0, 'okthaina': 0, 'eu_giohs': 1, 'dantasnicolee': 0, 'HOIUS91': 1, 'always_calum_': 0, 'tutuxho': 1, 'iferrdo': 0, 'Ma_Campelo': 0, 'belorabao': 1, 'fofo_leonardo': 0, 'JanainaDoBrasil': 1, 'SIRIUS0UL': 1, 'Nurco_': 0, 'NHSport_': 1, 'ThomasBrood': 0, 'AlexandreCalmo6': 1, 'R_Considera': 0, 'Lojas_Renner': 1, 'Cafeista': 0, 'eujgabriel': 1, 'LuisCar89702619': 0, 'PaniPytalska': 2, 'APPiotr': 0, 'Desia___': 0, 'Carolmph': 1, 'joaomars_finess': 0, 'VicioNerdBr': 2, 'fcgeorgeomalley': 1, 'natt_rosca': 0, 'EduardoLeite_': 1, 'fap_renner': 0, 'dudmarkitxy': 2, 'alexaftersex': 0, 'sinfulgirll': 0, 'caslysz': 0, 'fh_bug': 0, 'sabino_lia': 0, 'JUMP0FF07': 0, 'littycocks': 0, 'hollandswebss': 0, 'hoseokami': 0, 'greystarke': 0, 'Alice43725823': 0, 'eu_marcilio': 0, 'brom_elisa': 1, 'eduperez80': 1, 'siqueiravt_': 2, 'ullissesmachado': 0, 'breathin_5H': 0, 'HoudsonVitor': 0, 'marciocostalb': 0, 'adodiadolly': 0, 'harryrinndo': 0, 'kamillyallar': 0, 'edujfiorini': 0, 'laurscarx': 0, 'darkpolastri': 0, 'KayoJovovich15': 0, 'pony0w': 0, 'sooyasworlds': 0, 'MALIK4THEWONDER': 0, 'wolviestark': 0, 'lemonwxves': 0, 'queenthmoon': 0, 'louist_98': 0, 'rosieaurea': 0, 'gordaopitchfork': 0, 'leonardojenner_': 0, 'kbtperry': 0, '_vinceecniv': 0, 'sorvetedegin': 0, 'OficialSala12': 1, 'Renner_Souza_': 0, '2005__vibes': 0, 'cau_caroline': 0, 'biel9912_': 0, 'Jota_Miluzsh09': 0, 'krouzitaa': 0, 'shamelessjg': 0, 'iamastridsloan': 0, 'badgalluci': 0, 'duvidoso1508': 0, 'Randxlpho': 0, 'dontbeavini': 0, 'lollygrazer1': 0, 'L1N0VHS': 26, 'minholettrs': 0, 'ErrantePotato': 0, '29cmpiroca': 27, 'David50729214': 0, 'dourado2307': 0, 'coffeeMariaC': 0, '_danifromrj': 0, 'iamclaudevan': 0, 'suninharu': 0, 'beatlspoetry': 0, 'LiLixInnie': 0, 'MrsSigyn': 0, 'VKdalm': 0, 'jaeyown': 0, 'IsahMew': 0, 'i8channie': 0, 'nozomimarinho': 0, 'gea_colombo': 0, 'victorianags': 0, 'pxrfectblue': 0, 'warlissonhc': 1, 'celinho_santos': 0, 'Miilla_Paiva': 1, 'makeupoln': 0, 'undermymanuella': 1, 'Fernanda_FCL': 0, 'katys_old': 0, 'YERIVL0G': 0, 'linoxsky': 0, 'pfvr_guimaraes': 1, 'damiansaurus': 0, 'DamnHael': 0, 'lost_eros': 0, 'yerisoir': 0, 'feIixshy': 0, 'ohnoavampbiteme': 0, 'roxmo': 1, 'HYUNKN0IR': 0, 'naira_gif': 0, 'sgmlluv': 0, '_maduusousa': 0, 'ootbstan': 0, 'teagow': 0, 'Jikn1fe3l': 0, 'robsschef': 0, 'bowiewatchboys': 0, 'livebyharry': 1, 'alaskawhoo': 0, 'hansolacrador': 0, 'lucasgmerces': 0, 'joaovicxto': 0, 'sliponbars': 0, 'discoceans': 0, 'kiwizete': 0, 'nahofofa': 0, 'Nyn_Green': 0, 'caccyatore': 0, 'chaemajesty': 0, 'felixfeeIs': 0, 'R0R0N0ASANJI': 0, 'vminocean': 0, 'vampirelino': 0, 'oiadelino': 0, 'rafaeljunr': 1, 'bot_careca': 0, 'transbixa': 0, 'batata707': 0, 'sahmaio': 0, 'lic_x_o': 0, 'chaesoopalace': 0, 'blankpinkeuu': 0, 'BooChweChan': 0, 'Jaggerviado': 0, 'Gabrielmar1900': 0, 'IUfazendeira': 0, 'ybkcelest': 0, 'povsleeze': 0, 'HHOLMESSEXUAL': 0, 'luasnna': 0, 'gphanalog': 0, 'walkingwoair': 0, 'bro_co_lis': 0, 'tavendoaquelLua': 0, 'claracomosou': 0, 'mclarasommaggio': 0, 'madonninha2': 0, 'WednesJs': 0, 'eboykise': 0, 'rosesofblwod': 0, 'julmbx': 0, 'kettyaraujosz': 0, 'kiko_guto': 0, 'monaelisax': 0, 'jamsinchains': 0, 'herongraystayrz': 0, 'quesadila_': 0, 'NamuBItch': 0, 'morpheuxzfell': 0, 'larrysadsad': 0, 'ARTNOUV3AU': 0, 'rozzz_zz': 0, 'warriormyer': 0, 'hneymoonisalie': 0, 'ur_sugarboo': 0, 'KatyCatNescau': 0, 'girlkpz': 0, 'DangerouslyAna': 0, 'swiftweII': 0, 'teAmkatyrk': 0, 'zfabrogmailcom': 1, 'llysh1n': 0, 'Rconstantino': 2, 'Rei5516': 1, 'choisantissimo': 0, 'jeetiesung': 0, 'synsergio': 1, 'rachelcoelho_': 0, 'PJML3MON': 0, 'afrotransgredir': 1, 'CristopherVini_': 0, 'rafaguirin': 1, 'g4bi_15': 0, 'hrybells': 2, 'zjcopy': 0, 'hrryfelt': 0, 'DanielaLima_': 1, 'carolmpereir': 11, 'FuracaodaCPI19': 0, 'eubrunnx': 1, 'leonewsleonews': 0, 'thaiscrf2': 1, 'mimira_557': 0, 'carmelonetobr': 1, 'crisradafs': 0, 'dani_si0': 0, 'anagrcs_': 0, 'VicioNerds': 0, 'TeamSVB': 2, 'Benoit_stx': 0, 'xxxLeenixxx': 0, 'stark_potts12': 1, 'anittastan7': 0, 'omarlovv': 17, 'omarecut': 0, 'inescusavel': 0, 'anythngS2': 0, 'acarolinelimads': 1, 'Michelinails1': 0, 'fenanofefo': 1, 'ALINE_TWWT': 0, 'vitoria6130': 0, 'juaflxx': 0, 'louisviniI': 0, 'lucas_m3nds': 0, 'Ofridinho': 0, 'noivagremista': 0, 'oidaniellima': 0, 'edlipsflowers': 0, 'lolowrose': 0, '3MOGYU': 1, 'kAKA_luvmoon': 0, 'christhenriques': 0, 'claravenclaww': 0, 'pecoliveira': 1, 'jessicabtf': 0, 'arianaesurtada': 2, '_maiisuum': 0, 'ewerlarkw': 0, 'seoksake': 0, 'CarolRMachado': 0, 'lovexfavs': 0, 'WaybrightLucas': 1, 'h3n_noceda': 0, '_mnzmay': 3, 'rodriguesthay__': 0, 'fernandessxz_': 0, 'bsby_Omar': 0, 'Mimilemilena': 0, 'canyonalex': 0, 'IAnaju11': 0, 'Mariana21128542': 0, 'rainhadamassa': 0, 'edvinrelics': 0, 'mavenalone': 0, 'realpfigueiredo': 1, 'fuckbadstrings': 0, 'AzeVictor_': 1, 'rosanagazola': 1, 'AnaCaro66697540': 0, 'denisedaudt': 0, 'gzhdigital': 0, 'MoniCezimbra': 0, 'iolaykz': 1, 'potatozgirl': 0, 'GlendaD15533941': 1, 'Gu_Renner': 0, 'deb_ontop': 28, 'orchidsun0': 0, 'allanldsantos': 1, 'Marceloscf2': 1, 'hopejunnie': 0, 'lobo_turquesa': 1, 'cazemaneh': 0, 'dbelemlopes': 1, 'Prefeitura_POA': 0, 'rosestochannie': 0, 'maduwskz': 0, '_rayuniverse': 0, 'Ari_With_An_M': 0, 'ttalgirl': 1, 'ccinoslz': 0, 'MonSahxx': 0, 'CarlosA27956501': 0, 'CB97_Daddy': 0, 'karenzinha6__': 1, 'renner_crf': 0, 'heepunkluv': 0, 'BaixinhoPuto': 0, 'Corrupt_Hunter_': 1, 'makooki_': 0, 'yeonjpallet': 0, '_dudaloureiro': 1, 'Brunmayara_': 0, 'julixett': 2, 'DianaLightwood': 0, 'YuriJacobsen': 1, 'BohmViktor': 0, 'naahclarice': 0, 'lottilance1': 1, 'Thaisoliveir16': 0, 'BrunnoMeloCBN': 1, 'Rayane34307022': 0, 'adoratlas': 1, 'AlessaMarx': 0, 'poetjinnie': 0, 'inozumaki': 1, 'N4GISABAE': 0, 'sugaarcts': 0, 'skzsbp': 0, 'leandrograss': 1, 'tomungsky1': 0, 'celebridando': 2, 'nightpattz': 0, 'i_s4bela': 0, 'myideaa19': 0, 'linominliz': 0, 'myjjungwon': 0, 'Steven_Moons': 1, 'dalton63': 0, 'cb97seug': 0, 'grayxlovato': 0, 'goura_nataraj': 1, 'stay_jssj': 0, 'milalaranjeira': 1, 'qrcapital': 1, 'AgendaDoJair': 1, 'renhyuckart': 0, 'hwanglovecore_': 0, 'hwnglace': 0, 'yaki_namodolix': 0, 'hanjiswag8': 0, 'Luizaspranger1': 1, 'veeiye': 1, 'quincy_renner': 0, 'duquintanilha': 1, 'lcos3060': 1, 'phfernandes': 1, 'vascozip': 0, 'MariaBo99798640': 0, 'wellintonviana1': 1, 'RicardoBarrosPP': 1, 'CaioLMacedo': 1, 'GoalBR': 1, 'sexohh_bvelha': 0, 'Chrisstrack': 1, 'enjoei': 0, 'idkpassarinho': 2, 'Mari_compagnoni': 0, 'MInfraestrutura': 1, 'JCARD12693227': 0, 'ps_zeke': 0, 'vazflo1302': 0, 'Logam24111': 0, 'Luara66915861': 0, 'gugahorny': 0, 'manueon': 0, 'dutra_leomar': 0, 'bitter3_': 0, 'Noukoudo': 0, 'carlos11790327': 0, 'Nakamur88886720': 0, 'Kaique36242462': 0, 'ese_ss00': 0, 'Valen4465031952': 0, 'Clid61525040': 0, 'di_rud': 0, 'CarlosR79479007': 0, 'Dede68dede1': 0, 'adoradordepau': 0, 'SATURNM4Y': 1, 'CH4EF4IRY_': 0, 'calabocachiara': 1, 'giogioboiolinha': 0, 'jikookmonster': 4, 'giisela_c': 0, 'euhugomatheus': 3, 'crlhrodriguess': 0, 'tracklist': 1, 'leticialiberio2': 0, '_vicjoao': 0, 'AnalfabetaC': 0, 'NaliaChan': 1, 'MariaCl07600157': 0, 'mariehduda': 1, 'kcpo00': 0, 'sweetiemillay': 3, 'juujskywalker': 0, 'copyoflie': 0, 'zouistyIe': 3, 'zkdlinaughty': 0, 'finnwolfboss': 0, 'cacocardassi': 1, 'ByeTaty': 0, 'louisun28_': 0, 'eurafaelax': 0, 'Mxreirx_': 0, 'AdVerteisa': 1, 'Reneke88100556': 0, 'isabellafm4s': 1, 'Guio09812927': 0, 'grr_mono': 1, 'anna_thalhammer': 1, 'alice_a_burra': 0, 'cadenapolitica': 1, 'Justicia_Linea': 0, 'rapadura': 13, 'C_Kazama': 0, 'bianco_silva': 0, 'plantaonerdice': 1, 'Henriqu23673678': 0, 'ssalessx': 2, 'mindlanis': 0, 'valdezdorock': 0, '_pabloleo_': 0, 'alicesaquino': 17, 'EMILLIR': 0, 'becomultiverso': 7, 'itsmillanina': 0, 'WoompBR': 1, 'falls91lotus': 0, 'marvelswiftt': 1, 'evermoreez': 0, 'Blossom402': 0, 'tbagdiana': 0, 'gaaoquadrado': 1, 'Joaopedrofl15': 0, 'thebruba': 1, 'leandritter': 0, 'poppyneer': 0, 'JessRibeiro92': 0, 'Jhenycriss_': 0, 'Mthspfc': 0, 'tracestyless': 0, 'alanrodrigues14': 0, 'mariabpimentel6': 0, 'mariaraujoooo': 0, 'LightsCameraPod': 1, 'Da_OfficialZeus': 0, 'mileystarky': 0, 'PortalClaquete': 6, 'jensenclaw': 0, 'itadorisadic': 0, 'ritson_leticia': 0, 'kccaxitos': 0, 'MundoGeekOF1': 1, 'NathanP38636576': 0, 'ThomsTargaryen': 0, 'marvelcruels': 0, 'sodrehzinho': 0, 'MaitCustdio1': 0, 'Mavysxz': 0, 'mat49b': 0, 'LetiAbelhinha': 0, 'i9astakun': 0, 'PortalDCTV': 0, 'ReinadoHeroico': 5, 'PedroLBonfim': 0, 'Emerson43642376': 0, 'mooncakwe': 0, 'sdras_': 0, 'sabrinams06': 0, 'Pytok0': 0, 'wanda90s': 0, 'surtadapelopop': 0, 'L0K1ST4R': 0, 'gaybieu': 0, 'CarolinneNasci2': 0, 'Willflavius': 0, 'evstilinsklaus': 0, 'mrstarxk': 0, 'Agente_da_Atlas': 0, 'hosiebrutal': 0, 'escutai': 1, 'xcaiomaslevanto': 0, 'Sutter_Rafa': 0, 'BrFlorencePugh': 37, 'HannahBellova': 0, 'tianaprinces_': 0, 'Oliver85766917': 0, 'inngyds': 0, 'oxentepipoca': 9, 'natanael0302': 0, 'percycomic': 0, 'colesmotive': 0, 'larrybridgerton': 0, 'gimenezlusca': 0, 'Bfr19753491': 0, 'lilocallowayy': 0, 'Priscil18373646': 0, 'itopamito': 1, 'georg_renner': 0, 'CarlaZambelli38': 1, 'chylerdnvers': 0, 'ceroempatiq': 0, 'cabeiedjsjsj': 0, 'StylorRajaram': 0, 'gg_stanbr': 0, 'parklovd': 0, 'SasukeU87451397': 0, 'VlogdoLisboa': 1, 'Kayleee01199239': 0, 'soufuracoes': 0, 'jaeminsovietico': 1, 'BrisaBot': 0, 'LanaMarin': 0, 'goncalvesfio': 0, 'BLINKUNITER9': 0, 'Bligthsket': 0, 'RenatoVLBarros': 0, 'Edu_FernandesSi': 0, 'ttdaanabe3': 0, 'dobrstarkey': 0, 'violadrs': 0, 'csantos_samela': 0, 'crfevie': 0, 'DiegosMendes': 0, 'bedin_gustavo': 0, 'LuisMiller31': 0, 'adrielollie': 0, 'stayolioti': 0, 'PoderosoCoutao': 0, 'tn_taveira9': 0, 'GhostsNj': 0, 'gfusion_dj': 0, 'marveledcnotici': 0, 'raynercs': 0, 'amandmeloo': 0, 'Russo777_': 0, 'Parente__Neto': 0, 'Mbappe_ffc': 0, 'spyke6x': 0, 'thiagoromariz': 0, 'maiavbarreto': 0, 'linoano': 0, 'LuccaLeall': 0, 'cookinwflo': 0, 'archiveshailees': 1, 'canaltech': 4, 'ELISAND27020085': 0, 'MCU_Direct': 2, 'I_Am_Da_T_One': 0, 'Larsoncyrusss': 0, 'lola_lima_7': 0, 'Bianca10792571': 0, 'alixkenobi': 0, 'pughslwt': 0, 'EllaLima14': 0, 'lwtsings': 0, 'whoisjupa': 0, 'yowngstars': 0, 'marblossomn': 0, 'BETTERDISGUISE': 0, 'i2olivs': 0, 'AlexMonteiro93': 0, 'carla_bda': 0, 'AllyLuthor': 0, 'ferwxn': 0, 'florencesbelova': 0, 'jaguarhalfblood': 0, 'wellsyrs': 0, 'gabcunningham': 0, 'unicorndanvers': 0, 'MAXIL0KI': 0, 'emiIysrudd': 0, 'natataliaviotto': 0, 'vhspugh': 0, 'tawanybombshell': 0, 'favshatala': 0, 'sergiim_ntj': 0, 'jetblackstark': 8, 'fairityretro': 0, 'aligagaybr': 1, 'thales_gomez': 0, 'NGBA_SVM': 0, 'leahfatin': 0, 'rickmanfavs': 0, 'yaquababe': 1, 'Carlos78148664': 0, 'macinewss': 1, 'nicgomezz': 0, 'itsgabrielcosta': 1, 'kimjennie2001': 0, 'katialeticia112': 1, 'Alexand47776504': 0, 'Iokifier': 0, 'knopewyatt_': 0, 'Anemalon19': 1, 'Renner_AfD': 0, 'AfDFilme': 1, 'gundel_gaukeley': 1, 'R0D3S': 1, 'IcaroAlencar91': 1, 'SensoCrtico1': 12, 'LsxAnon9999': 0, 'cinepop': 3, 'JooPedr94248453': 0, 'TerezaCrisMS': 1, 'Chefcarolinavi1': 1, 'B0LS0NAR0_JR': 1, 'lordivan22': 1, 'wanderleiga': 13, 'jmunizg_': 0, 'lorymp_': 0, 'Oledobrasil': 1, 'crvgianca': 1, 'luuh_005': 0, '4n2ds': 1, 'pietra_renner': 0, 'botbissexual': 5, 'haitanismo': 0, 'ggabriel_ccosta': 1, 'TioGutinha_': 0, 'BolsonaroSP': 1, 'pauloeneas': 1, 'gabipedrozo_': 0, 'augguiiiii': 0, 'notdianaross': 1, 'Wesley_edub': 0, 'carol3lima': 0, 'isinhabana': 0, 'arctictruly': 1, 'miguelnearhellw': 0, 'ju_guerra01': 0, '_bbonekinha': 0, 'ddudaraujoo': 0, '_marinanobrega_': 0, 'claragiuzioo': 0, 'yukio_souza': 0, 'astericepheus': 1, 'aaritae': 0, 'plannerfelipe': 1, 'luasemente': 0, 'haizjt': 0, 'fofocasdoVIP': 5, '007_marri': 0, 'juliavsf__': 0, 'danisantosq': 0, 'Ttda_iza': 0, 'T3AM_RIBBON': 0, 'DouglasGarcia': 1, 'KEEPVERYCHERRY': 0, 'weakragazzo': 1, 'bemaliboy': 0, 'Leehnamerda': 1, 'Onlygodcan___': 0, 'dindivagando': 1, 'Brunosilvarmd': 0, 'euruth12': 1, 'leo_moraes97': 0, 'pretta1992': 3, 'oliveirayanka_': 0, 'Nami_a_piranha': 1, 'Renner_MO': 0, 'enbynanamin': 0, 'guirinuspereira': 0, 'PaolaSDaniel': 1, '_calixtomi': 0, 'Da_Place2B': 0, 'pretapontocombr': 0, 'panapanalu': 0, 'dougsoua': 0, 'ttdolucaz': 0, 'sergiodireita1': 1, 'yubindrift': 1, 'chuu_vibes': 0, 'dissebella': 1, 'diligaa': 1, 'WeebB0t': 0, 'duaunext': 4, 'flklorelipa': 0, 'JohnKage10': 1, 'rzenaan': 0, 'felipeojr': 1, 'quackybubblesr': 0, 'lipawalks': 0, 'Rodrigues_F': 1, 'IuIaoficiaI': 0, 'MalcolmLutherK1': 1, 'kurupiofc': 2, 'Rafael045': 0, 'dudxlipa': 0, 'omaiconsulivan': 1, 'RafaelFontana': 1, 'geglobo': 1, 'KauanMe80211902': 1, 'Renner_04': 0, 'secomvc': 1, 'teen22cm': 2, 'Gabe98344856': 0, 'thehackbr': 1, 'APDABot': 0, 'ivah0rse': 1, 'R3nnanB': 1, 'vitin_312': 0, 'MuraraHenrique': 1, 'RecDream': 0, 'Xbr369': 0, '_srtiago': 1, 'Chris68273989': 0, 'CavendishPaulo': 1, 'TomMayerEuropa': 6, 'mokka_1667': 0, 'IsakLalrinsanga': 0, 'lovesick_gay': 1, 'Wattpadiana3': 0, 'jhopetiffany': 2, 'kaiofobia': 0, 'yunhhhri': 0, 'heyybela': 1, 'kascuissiatto': 0, 'rogersonvinyl': 1, 'RichDent': 0, 'JotaInfo': 6, 'MSVMiranda': 0, 'YagoSantss': 1, 'KarolG53': 0, 'jordanfarialima': 1, 'Maurer_Anton': 0, 'wolfi232': 0, 'Christa19921136': 0, 'VanessaVandal': 0, 'b_gabelle': 0, 'jujuprxta': 1, 'GiuliaGGarcia': 0, 'sjungnikl': 1, 'crymepls': 2, 'crf_vinicius7': 0, 'luaprin_': 0, 'm_soldati': 0, 'sobr3vivente': 0, 'Fabioschaffner': 0, 'Filipep15': 0, 'mychell_luiz': 24, 'Brenda_16k': 0, 'filgmartin': 1, 'Barbielarinha': 27, 'Jullyanavick4': 0, 'jurubinhabjss': 0, 'AmadeuAntonio': 1, 'norbert_renner': 0, 'Tavinho09397220': 0, 'Marrent_155': 0, 'Maria82537609': 7, 'sofya_ofc': 0, 'ylara_01': 0, '_MFernandaah': 0, 'pedrosqualo': 1, 'slafelipe7': 0, 'joaoluccas01': 0, 'davirhuan2822': 47, 'Clara_Ramos03': 0, 'rlkfini5': 0, 'Nojentaa02': 0, 'heloisa_04': 0, 'princesinha_115': 0, 'Laisfany': 1, 'kezinha60771234': 0, 'RayFontes_': 0, 'evelyncaren1': 0, 'LorenzoJ__': 0, 'Bela17116451': 0, 'lele01dele': 0, 'Emylly_5': 0, 'NORDESTEPATRIO1': 1, 'mimialves22': 0, 'Nenisurtada': 0, 'Sophya0210': 0, 'Dimagrinha557': 0, 'Treem_014': 0, 'Nay_Eduardo': 0, 'RaviJoice': 0, 'Thferreir': 0, 'Carolin81871933': 0, 'Juuliana_limahh': 0, 'Gataa_malvada15': 0, 'Laysa_bjs': 0, 'Marcellysophia_': 1, 'Iriscristina_55': 0, 'larasofia22': 0, 'feeefe19': 0, 'akekezinha__21': 0, 'vulgoprin2': 0, 'Brenndha85': 0, 'eu_kayyllane': 0, 'Jasana98266664': 0, 'Stefane_bjs': 0, 'PATRlOTAS': 1, 'Alerquina0_13': 0, 'DudynhaSoares5': 0, 'letradolucas': 1, 'Pitelzinha6': 0, 'Thaliaacrf': 0, 'NandaWillianG': 0, 'nathycarolina18': 0, '_chefinhaa57': 0, 'Millybellabj': 0, 'ALLuSapelli': 1, 'thaayysilva': 0, 'kekatiraonda': 0, 'Fb_018': 1, 'lavinia_bjs02': 0, 'milysouz_': 0, 'yeshua_4': 0, 'bllz_': 0, 'tremgata04': 0, 'Dreanny2': 0, 'eduardars__': 0, 'daneldix': 2, 'emixmfra': 0, 'Andreia02997326': 0, 'NS_Sattoos': 0, 'Chefinha_jv': 0, 'crfmayarah_04': 0, 'Milena07463793': 0, 'AnnaJulia00_1': 0, 'RaiissaGama': 0, 'Daaymarques12': 0, 'rsrs_natasha': 0, '_tremGata57': 0, 'GalvaniRenan': 1, 'Fiifi_Renner': 0, 'TNTSportsBR': 1, 'crfclara22': 0, 'anna4macedo': 0, 'alorena_lore': 0, 'Alene071': 0, 'hericksnt': 0, 'moser_at': 1, 'Beatryz_': 0, 'do_genocida': 1, 'OliverStuenkel': 1, 'Leidianecrf1': 0, 'Anne_Crf2': 0, 'vickrsrs': 0, 'SimusWali': 1, 'Akyuko2021': 0, 'seuladirmara': 0, 'renata_r30': 0, 'nath_azambujaa': 1, 'randolfeap': 1, 'Prr_Milaa': 0, 'AyllaBrendinha': 0, 'Kathyan71088093': 0, 'BbLindaTrem1': 0, 'nayllasophia2': 0, 'sogostososdf': 0, '_wtrem': 0, 'depmgualberto': 1, 'tremrs55': 0, 'josefkalina': 1, 'rorcs': 1, 'La_yza10': 0, 'alexandra_73': 0, '021mclara': 0, 'Larytrem57': 0, 'SilvaJennifer6': 0, 'Preta_Mika4': 0, 'Caah_Sntts': 0, 'jhullyamormeu': 5, 'Https_moreeno': 0, 'reumalho': 1, 'AdrianoKeynes': 1, 'gersonsalvador': 1, 'diegoescosteguy': 1, 'spfcpics': 1, 'CuritibaRenato': 1, 'carolinenami': 4, 'greybe_': 0, 'AkiieneC': 0, 'ThayAnna227': 0, 'Nerrdcall': 1, 'Rub00731275': 0, 'Liviacris07': 0, 'KristopherAnjo1': 0, 'biaa_27': 0, 'raytwo_': 13, 'nanamendees_': 0, 'Duda_doidinhaa': 0, 'Annatreem12': 0, 'Malvadonaaa157': 0, 'iratuus': 1, 'daros_natalia': 0, 'gege_bjs': 0, 'Ruthbrenda_97': 0, 'qlf_arica': 0, 'meiry_gattona': 0, 'Vick17681182': 0, 'jubsffc1': 0, 'Queirs16': 0, 'kamy_bjs': 0, '_chefinha55': 1, 'avacafazmu': 0, 'pjsfleurs': 0, 'mtmark3': 0, 'M0G1Ch': 0, 'yurifuttavares': 0, 'Caroolltrem': 0, 'Abrao28534098': 0, 'LucasIndio99': 0, 'AnaMelo1908': 0, 'Nielzin33': 0, 'ffc_brunaa': 0, 'stilesarts': 0, 'YoChimachill': 0, 'taldosh': 0, 'possidonioffc': 0, 'GabiiLuiza6': 0, 'endprongs': 1, 'Effie_Potter07': 0, 'guivpa': 0, 'cansadacarla': 0, 'Thiagob9': 0, 'thi4gu1n': 0, 'iacolopes': 0, 'leinad1902': 0, 'bernardes_mi': 0, 'ParahybaThreads': 0, 'Montipoggers': 0})"
            ]
          },
          "metadata": {},
          "execution_count": 66
        }
      ]
    },
    {
      "cell_type": "code",
      "metadata": {
        "id": "tFfxTxMBvS2G",
        "colab": {
          "base_uri": "https://localhost:8080/"
        },
        "outputId": "d01ab737-0518-42ff-ead9-a4310706b322"
      },
      "source": [
        "sorted(D.out_degree(weight='weight'), key=itemgetter(1), reverse=True)[:5]"
      ],
      "execution_count": 67,
      "outputs": [
        {
          "output_type": "execute_result",
          "data": {
            "text/plain": [
              "[('pavliique', 114),\n",
              " ('wxvivi', 77),\n",
              " ('legendarylovers', 72),\n",
              " ('RandonadmM', 70),\n",
              " ('aresnoert', 54)]"
            ]
          },
          "metadata": {},
          "execution_count": 67
        }
      ]
    },
    {
      "cell_type": "markdown",
      "metadata": {
        "id": "I5txahzgqsF1"
      },
      "source": [
        "\n",
        "### 6.4.2 Anomaly detection\n"
      ]
    },
    {
      "cell_type": "code",
      "metadata": {
        "scrolled": true,
        "id": "2YbKCw3PvS2H",
        "colab": {
          "base_uri": "https://localhost:8080/"
        },
        "outputId": "edf99a0c-1a30-4ea7-8d60-f14095df1ab8"
      },
      "source": [
        "sorted(D.in_degree(weight='weight'), key=itemgetter(1), reverse=True)[:5]"
      ],
      "execution_count": 33,
      "outputs": [
        {
          "output_type": "execute_result",
          "data": {
            "text/plain": [
              "[('Renner_SSouza', 86),\n",
              " ('Renner_Souza_', 29),\n",
              " ('o_renner', 6),\n",
              " ('Renner_AfD', 5),\n",
              " ('bot_cockroach', 4)]"
            ]
          },
          "metadata": {},
          "execution_count": 33
        }
      ]
    },
    {
      "cell_type": "markdown",
      "metadata": {
        "id": "gLdgve_dvS2H"
      },
      "source": [
        "### 6.4.3 Connectivity\n"
      ]
    },
    {
      "cell_type": "code",
      "metadata": {
        "id": "ovAtnR0mvS2H",
        "colab": {
          "base_uri": "https://localhost:8080/"
        },
        "outputId": "a0ed8a51-61ba-49c1-c715-f9360db15fd9"
      },
      "source": [
        "nx.is_weakly_connected(D)"
      ],
      "execution_count": 34,
      "outputs": [
        {
          "output_type": "execute_result",
          "data": {
            "text/plain": [
              "False"
            ]
          },
          "metadata": {},
          "execution_count": 34
        }
      ]
    },
    {
      "cell_type": "code",
      "metadata": {
        "id": "6RzDNKeuvS2H",
        "colab": {
          "base_uri": "https://localhost:8080/"
        },
        "outputId": "0aa96a40-1473-4de6-d5cf-209f16b441e3"
      },
      "source": [
        "nx.number_weakly_connected_components(D)"
      ],
      "execution_count": 35,
      "outputs": [
        {
          "output_type": "execute_result",
          "data": {
            "text/plain": [
              "209"
            ]
          },
          "metadata": {},
          "execution_count": 35
        }
      ]
    },
    {
      "cell_type": "markdown",
      "metadata": {
        "id": "if3Q37olvS2H"
      },
      "source": [
        "### 6.4.4 Drawing\n"
      ]
    },
    {
      "cell_type": "code",
      "metadata": {
        "id": "AzVkPs8kvS2H",
        "colab": {
          "base_uri": "https://localhost:8080/",
          "height": 319
        },
        "outputId": "67e2a5cc-d4cc-4872-98b4-9a59303bc566"
      },
      "source": [
        "node_sizes = [D.out_degree(n, weight='weight') * 50 for n in D.nodes]\n",
        "\n",
        "%matplotlib inline\n",
        "nx.draw(D, node_size=node_sizes)\n",
        "nx.write_graphml(D, \"renner_rtt.graphml\")"
      ],
      "execution_count": 79,
      "outputs": [
        {
          "output_type": "display_data",
          "data": {
            "image/png": "[encoded data removed]",
            "text/plain": [
              "<Figure size 432x288 with 1 Axes>"
            ]
          },
          "metadata": {}
        }
      ]
    },
    {
      "cell_type": "markdown",
      "metadata": {
        "id": "MA5DPlxEvS2H"
      },
      "source": [
        "# 7.0 Twitter mention network\n"
      ]
    },
    {
      "cell_type": "markdown",
      "metadata": {
        "id": "fd1_TCcfryPE"
      },
      "source": [
        "\n",
        "## 7.1 Get some tweets"
      ]
    },
    {
      "cell_type": "code",
      "metadata": {
        "id": "ER9zq30GvS2H",
        "colab": {
          "base_uri": "https://localhost:8080/"
        },
        "outputId": "84a1381d-f0a0-4f20-d8a1-2631a0d6718a"
      },
      "source": [
        "import itertools\n",
        "\n",
        "NUM_TWEETS_TO_FETCH = 5000\n",
        "\n",
        "cursor01 = twitter.cursor(twitter.search, q='lojas renner', count=100, result_type='mixed')\n",
        "cursor02 = twitter.cursor(twitter.search, q='na renner', count=100, result_type='mixed')\n",
        "cursor03 = twitter.cursor(twitter.search, q='da renner', count=100, result_type='mixed')\n",
        "somatorio = [*cursor01, *cursor02, *cursor03]\n",
        "search_tweets = list(itertools.islice(somatorio, NUM_TWEETS_TO_FETCH))\n",
        "\n",
        "len(search_tweets)"
      ],
      "execution_count": 68,
      "outputs": [
        {
          "output_type": "execute_result",
          "data": {
            "text/plain": [
              "5000"
            ]
          },
          "metadata": {},
          "execution_count": 68
        }
      ]
    },
    {
      "cell_type": "code",
      "metadata": {
        "id": "DmEm-RJwThwz",
        "colab": {
          "base_uri": "https://localhost:8080/"
        },
        "outputId": "239cf128-d8b2-48ba-868d-53efb64da1d2"
      },
      "source": [
        "search_tweets[0]"
      ],
      "execution_count": 70,
      "outputs": [
        {
          "output_type": "execute_result",
          "data": {
            "text/plain": [
              "{'contributors': None,\n",
              " 'coordinates': None,\n",
              " 'created_at': 'Tue Sep 14 01:31:02 +0000 2021',\n",
              " 'entities': {'hashtags': [{'indices': [47, 59], 'text': 'MetGala2021'}],\n",
              "  'symbols': [],\n",
              "  'urls': [{'display_url': 'twitter.com/RandonadmM/sta…',\n",
              "    'expanded_url': 'https://twitter.com/RandonadmM/status/1437549451598569473',\n",
              "    'indices': [60, 83],\n",
              "    'url': 'https://t.co/16aPe1ftUe'}],\n",
              "  'user_mentions': []},\n",
              " 'favorite_count': 399,\n",
              " 'favorited': False,\n",
              " 'geo': None,\n",
              " 'id': 1437589674336432130,\n",
              " 'id_str': '1437589674336432130',\n",
              " 'in_reply_to_screen_name': None,\n",
              " 'in_reply_to_status_id': None,\n",
              " 'in_reply_to_status_id_str': None,\n",
              " 'in_reply_to_user_id': None,\n",
              " 'in_reply_to_user_id_str': None,\n",
              " 'is_quote_status': True,\n",
              " 'lang': 'pt',\n",
              " 'metadata': {'iso_language_code': 'pt', 'result_type': 'popular'},\n",
              " 'place': None,\n",
              " 'possibly_sensitive': False,\n",
              " 'quoted_status': {'contributors': None,\n",
              "  'coordinates': None,\n",
              "  'created_at': 'Mon Sep 13 22:51:12 +0000 2021',\n",
              "  'entities': {'hashtags': [],\n",
              "   'media': [{'display_url': 'pic.twitter.com/ljbF6PS4Ct',\n",
              "     'expanded_url': 'https://twitter.com/RandonadmM/status/1437549451598569473/photo/1',\n",
              "     'id': 1437549446204641285,\n",
              "     'id_str': '1437549446204641285',\n",
              "     'indices': [26, 49],\n",
              "     'media_url': 'http://pbs.twimg.com/media/E_MzmtgWUAUWm2f.jpg',\n",
              "     'media_url_https': 'https://pbs.twimg.com/media/E_MzmtgWUAUWm2f.jpg',\n",
              "     'sizes': {'large': {'h': 934, 'resize': 'fit', 'w': 622},\n",
              "      'medium': {'h': 934, 'resize': 'fit', 'w': 622},\n",
              "      'small': {'h': 680, 'resize': 'fit', 'w': 453},\n",
              "      'thumb': {'h': 150, 'resize': 'crop', 'w': 150}},\n",
              "     'type': 'photo',\n",
              "     'url': 'https://t.co/ljbF6PS4Ct'}],\n",
              "   'symbols': [],\n",
              "   'urls': [],\n",
              "   'user_mentions': []},\n",
              "  'extended_entities': {'media': [{'display_url': 'pic.twitter.com/ljbF6PS4Ct',\n",
              "     'expanded_url': 'https://twitter.com/RandonadmM/status/1437549451598569473/photo/1',\n",
              "     'id': 1437549446204641285,\n",
              "     'id_str': '1437549446204641285',\n",
              "     'indices': [26, 49],\n",
              "     'media_url': 'http://pbs.twimg.com/media/E_MzmtgWUAUWm2f.jpg',\n",
              "     'media_url_https': 'https://pbs.twimg.com/media/E_MzmtgWUAUWm2f.jpg',\n",
              "     'sizes': {'large': {'h': 934, 'resize': 'fit', 'w': 622},\n",
              "      'medium': {'h': 934, 'resize': 'fit', 'w': 622},\n",
              "      'small': {'h': 680, 'resize': 'fit', 'w': 453},\n",
              "      'thumb': {'h': 150, 'resize': 'crop', 'w': 150}},\n",
              "     'type': 'photo',\n",
              "     'url': 'https://t.co/ljbF6PS4Ct'}]},\n",
              "  'favorite_count': 1006,\n",
              "  'favorited': False,\n",
              "  'geo': None,\n",
              "  'id': 1437549451598569473,\n",
              "  'id_str': '1437549451598569473',\n",
              "  'in_reply_to_screen_name': None,\n",
              "  'in_reply_to_status_id': None,\n",
              "  'in_reply_to_status_id_str': None,\n",
              "  'in_reply_to_user_id': None,\n",
              "  'in_reply_to_user_id_str': None,\n",
              "  'is_quote_status': False,\n",
              "  'lang': 'pt',\n",
              "  'metadata': {'iso_language_code': 'pt', 'result_type': 'popular'},\n",
              "  'place': None,\n",
              "  'possibly_sensitive': False,\n",
              "  'retweet_count': 82,\n",
              "  'retweeted': False,\n",
              "  'source': '<a href=\"http://twitter.com/download/iphone\" rel=\"nofollow\">Twitter for iPhone</a>',\n",
              "  'text': 'Esse disponível na Renner https://t.co/ljbF6PS4Ct',\n",
              "  'truncated': False,\n",
              "  'user': {'contributors_enabled': False,\n",
              "   'created_at': 'Wed Jun 03 19:17:35 +0000 2020',\n",
              "   'default_profile': True,\n",
              "   'default_profile_image': False,\n",
              "   'description': 'I am not sorry for my huge titties or the multiple atrocities I have committed',\n",
              "   'entities': {'description': {'urls': []}},\n",
              "   'favourites_count': 47412,\n",
              "   'follow_request_sent': False,\n",
              "   'followers_count': 3916,\n",
              "   'following': False,\n",
              "   'friends_count': 584,\n",
              "   'geo_enabled': False,\n",
              "   'has_extended_profile': False,\n",
              "   'id': 1268260493896167431,\n",
              "   'id_str': '1268260493896167431',\n",
              "   'is_translation_enabled': False,\n",
              "   'is_translator': False,\n",
              "   'lang': None,\n",
              "   'listed_count': 12,\n",
              "   'location': '',\n",
              "   'name': 'catita',\n",
              "   'notifications': False,\n",
              "   'profile_background_color': 'F5F8FA',\n",
              "   'profile_background_image_url': None,\n",
              "   'profile_background_image_url_https': None,\n",
              "   'profile_background_tile': False,\n",
              "   'profile_banner_url': 'https://pbs.twimg.com/profile_banners/1268260493896167431/1618614886',\n",
              "   'profile_image_url': 'http://pbs.twimg.com/profile_images/1268260734699479040/g4EOQyyP_normal.jpg',\n",
              "   'profile_image_url_https': 'https://pbs.twimg.com/profile_images/1268260734699479040/g4EOQyyP_normal.jpg',\n",
              "   'profile_link_color': '1DA1F2',\n",
              "   'profile_sidebar_border_color': 'C0DEED',\n",
              "   'profile_sidebar_fill_color': 'DDEEF6',\n",
              "   'profile_text_color': '333333',\n",
              "   'profile_use_background_image': True,\n",
              "   'protected': False,\n",
              "   'screen_name': 'RandonadmM',\n",
              "   'statuses_count': 60791,\n",
              "   'time_zone': None,\n",
              "   'translator_type': 'none',\n",
              "   'url': None,\n",
              "   'utc_offset': None,\n",
              "   'verified': False,\n",
              "   'withheld_in_countries': []}},\n",
              " 'quoted_status_id': 1437549451598569473,\n",
              " 'quoted_status_id_str': '1437549451598569473',\n",
              " 'retweet_count': 36,\n",
              " 'retweeted': False,\n",
              " 'source': '<a href=\"http://twitter.com/download/iphone\" rel=\"nofollow\">Twitter for iPhone</a>',\n",
              " 'text': 'será que fez no cartão renner? \\nespero que sim #MetGala2021 https://t.co/16aPe1ftUe',\n",
              " 'truncated': False,\n",
              " 'user': {'contributors_enabled': False,\n",
              "  'created_at': 'Tue May 12 19:12:55 +0000 2009',\n",
              "  'default_profile': False,\n",
              "  'default_profile_image': False,\n",
              "  'description': 'aquela que tem os melhores lookinhos ✌ compre online por aqui: https://t.co/zdAq8BB3o7',\n",
              "  'entities': {'description': {'urls': [{'display_url': 'bit.ly/3wHmhXq',\n",
              "      'expanded_url': 'http://bit.ly/3wHmhXq',\n",
              "      'indices': [63, 86],\n",
              "      'url': 'https://t.co/zdAq8BB3o7'}]},\n",
              "   'url': {'urls': [{'display_url': 'lojasrenner.com.br',\n",
              "      'expanded_url': 'http://www.lojasrenner.com.br',\n",
              "      'indices': [0, 23],\n",
              "      'url': 'https://t.co/DBI8SeAC8r'}]}},\n",
              "  'favourites_count': 6947,\n",
              "  'follow_request_sent': False,\n",
              "  'followers_count': 120492,\n",
              "  'following': False,\n",
              "  'friends_count': 4743,\n",
              "  'geo_enabled': True,\n",
              "  'has_extended_profile': False,\n",
              "  'id': 39570657,\n",
              "  'id_str': '39570657',\n",
              "  'is_translation_enabled': False,\n",
              "  'is_translator': False,\n",
              "  'lang': None,\n",
              "  'listed_count': 622,\n",
              "  'location': 'Brasil',\n",
              "  'name': 'Lojas Renner',\n",
              "  'notifications': False,\n",
              "  'profile_background_color': 'FF0000',\n",
              "  'profile_background_image_url': 'http://abs.twimg.com/images/themes/theme16/bg.gif',\n",
              "  'profile_background_image_url_https': 'https://abs.twimg.com/images/themes/theme16/bg.gif',\n",
              "  'profile_background_tile': False,\n",
              "  'profile_banner_url': 'https://pbs.twimg.com/profile_banners/39570657/1630334768',\n",
              "  'profile_image_url': 'http://pbs.twimg.com/profile_images/1410796027880353792/cM8vRjfS_normal.jpg',\n",
              "  'profile_image_url_https': 'https://pbs.twimg.com/profile_images/1410796027880353792/cM8vRjfS_normal.jpg',\n",
              "  'profile_link_color': 'FF0000',\n",
              "  'profile_sidebar_border_color': 'FFFFFF',\n",
              "  'profile_sidebar_fill_color': 'FFFFFF',\n",
              "  'profile_text_color': '333333',\n",
              "  'profile_use_background_image': False,\n",
              "  'protected': False,\n",
              "  'screen_name': 'Lojas_Renner',\n",
              "  'statuses_count': 43123,\n",
              "  'time_zone': None,\n",
              "  'translator_type': 'none',\n",
              "  'url': 'https://t.co/DBI8SeAC8r',\n",
              "  'utc_offset': None,\n",
              "  'verified': True,\n",
              "  'withheld_in_countries': []}}"
            ]
          },
          "metadata": {},
          "execution_count": 70
        }
      ]
    },
    {
      "cell_type": "code",
      "metadata": {
        "id": "W3KD3cvtvS2H"
      },
      "source": [
        "import networkx as nx\n",
        "\n",
        "D = nx.DiGraph()\n",
        "\n",
        "for tweet in search_tweets:\n",
        "    tweet_sn = tweet['user']['screen_name']\n",
        "    for user_mention in tweet['entities']['user_mentions']:\n",
        "        mentioned_sn = user_mention['screen_name']\n",
        "        \n",
        "        my_edge = (tweet_sn, mentioned_sn)\n",
        "        if D.has_edge(*my_edge):\n",
        "            D.edges[my_edge]['weight'] += 1\n",
        "        else:\n",
        "            D.add_edge(*my_edge, weight=1)"
      ],
      "execution_count": 71,
      "outputs": []
    },
    {
      "cell_type": "markdown",
      "metadata": {
        "id": "E6kCRyxHvS2H"
      },
      "source": [
        "## 7.3 Analyze graph\n"
      ]
    },
    {
      "cell_type": "markdown",
      "metadata": {
        "id": "lVFp47K1sMtp"
      },
      "source": [
        "\n",
        "### 7.3.1 Most  popular users\n"
      ]
    },
    {
      "cell_type": "code",
      "metadata": {
        "id": "BccWG-fFvS2H",
        "colab": {
          "base_uri": "https://localhost:8080/",
          "height": 35
        },
        "outputId": "4b86edf3-bbce-4b2d-8424-5dcea23134d7"
      },
      "source": [
        "max(D.nodes, key=D.in_degree)"
      ],
      "execution_count": 72,
      "outputs": [
        {
          "output_type": "execute_result",
          "data": {
            "application/vnd.google.colaboratory.intrinsic+json": {
              "type": "string"
            },
            "text/plain": [
              "'Lojas_Renner'"
            ]
          },
          "metadata": {},
          "execution_count": 72
        }
      ]
    },
    {
      "cell_type": "code",
      "metadata": {
        "id": "4ssn9eEdvS2H",
        "colab": {
          "base_uri": "https://localhost:8080/"
        },
        "outputId": "3686dad5-c3e6-40cc-8e0f-71f78223d608"
      },
      "source": [
        "from operator import itemgetter\n",
        "\n",
        "sorted(D.in_degree(), key=itemgetter(1), reverse=True)[:5]"
      ],
      "execution_count": 73,
      "outputs": [
        {
          "output_type": "execute_result",
          "data": {
            "text/plain": [
              "[('Lojas_Renner', 397),\n",
              " ('pavliique', 114),\n",
              " ('wxvivi', 78),\n",
              " ('legendarylovers', 72),\n",
              " ('RandonadmM', 71)]"
            ]
          },
          "metadata": {},
          "execution_count": 73
        }
      ]
    },
    {
      "cell_type": "code",
      "metadata": {
        "id": "ZHU0kZR3vS2H",
        "colab": {
          "base_uri": "https://localhost:8080/"
        },
        "outputId": "effb323d-637b-4ef7-c1ad-4ea365dc5109"
      },
      "source": [
        "sorted(D.in_degree(weight='weight'), key=itemgetter(1), reverse=True)[:5]"
      ],
      "execution_count": 74,
      "outputs": [
        {
          "output_type": "execute_result",
          "data": {
            "text/plain": [
              "[('Lojas_Renner', 683),\n",
              " ('pavliique', 114),\n",
              " ('wxvivi', 78),\n",
              " ('legendarylovers', 72),\n",
              " ('RandonadmM', 71)]"
            ]
          },
          "metadata": {},
          "execution_count": 74
        }
      ]
    },
    {
      "cell_type": "markdown",
      "metadata": {
        "id": "HeopeYu0sb5f"
      },
      "source": [
        "\n",
        "### 7.3.2 Conversation drivers\n"
      ]
    },
    {
      "cell_type": "code",
      "metadata": {
        "scrolled": true,
        "id": "sNNy8AMTvS2H",
        "colab": {
          "base_uri": "https://localhost:8080/"
        },
        "outputId": "8e2ea692-43a9-4295-9bac-54da3a92fd49"
      },
      "source": [
        "sorted(D.out_degree(weight='weight'), key=itemgetter(1), reverse=True)[:5]"
      ],
      "execution_count": 75,
      "outputs": [
        {
          "output_type": "execute_result",
          "data": {
            "text/plain": [
              "[('Lojas_Renner', 390),\n",
              " ('Renner_SSouza', 80),\n",
              " ('johnnyjpmendes', 72),\n",
              " ('Renner_AfD', 33),\n",
              " ('AnaGolitz', 22)]"
            ]
          },
          "metadata": {},
          "execution_count": 75
        }
      ]
    },
    {
      "cell_type": "markdown",
      "metadata": {
        "id": "Uf3jf8_gvS2I"
      },
      "source": [
        "### 7.3.3 Connectivity\n"
      ]
    },
    {
      "cell_type": "code",
      "metadata": {
        "id": "qxVQ6vvQvS2I",
        "colab": {
          "base_uri": "https://localhost:8080/"
        },
        "outputId": "ee0861da-809c-4e7b-d657-f9988a28a017"
      },
      "source": [
        "nx.is_weakly_connected(D)"
      ],
      "execution_count": 76,
      "outputs": [
        {
          "output_type": "execute_result",
          "data": {
            "text/plain": [
              "False"
            ]
          },
          "metadata": {},
          "execution_count": 76
        }
      ]
    },
    {
      "cell_type": "code",
      "metadata": {
        "id": "brsS_z7PvS2I",
        "colab": {
          "base_uri": "https://localhost:8080/"
        },
        "outputId": "ef9c8fe6-9d7f-4ad2-c978-6f01c0d668ad"
      },
      "source": [
        "nx.number_weakly_connected_components(D)"
      ],
      "execution_count": 77,
      "outputs": [
        {
          "output_type": "execute_result",
          "data": {
            "text/plain": [
              "833"
            ]
          },
          "metadata": {},
          "execution_count": 77
        }
      ]
    },
    {
      "cell_type": "markdown",
      "metadata": {
        "id": "Pi0V0v_4vS2I"
      },
      "source": [
        "### 7.3.4 Drawing\n"
      ]
    },
    {
      "cell_type": "code",
      "metadata": {
        "id": "51mLlrbxvS2I",
        "colab": {
          "base_uri": "https://localhost:8080/",
          "height": 319
        },
        "outputId": "801082c2-eef8-486b-dd74-f632f25fedae"
      },
      "source": [
        "node_sizes = [D.in_degree(n, weight='weight') * 50 for n in D.nodes]\n",
        "\n",
        "%matplotlib inline\n",
        "nx.draw(D, node_size=node_sizes)\n",
        "nx.write_graphml(D, \"renner_men.graphml\")"
      ],
      "execution_count": 78,
      "outputs": [
        {
          "output_type": "display_data",
          "data": {
            "image/png": "[encoded data removed]",
            "text/plain": [
              "<Figure size 432x288 with 1 Axes>"
            ]
          },
          "metadata": {}
        }
      ]
    }
  ]
}